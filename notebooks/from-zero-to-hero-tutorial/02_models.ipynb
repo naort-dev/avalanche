{
 "cells": [
  {
   "cell_type": "markdown",
   "metadata": {
    "pycharm": {
     "name": "#%% md\n"
    }
   },
   "source": [
    "---\n",
    "description: 'First things first: let''s start with a good model!'\n",
    "---\n",
    "\n",
    "# Models\n",
    "\n",
    "Welcome to the \"**Models**\" tutorial of the \"_From Zero to Hero_\" series. In this notebook we will talk about the features offered by the `models` _Avalanche_ sub-module.\n",
    "\n",
    "### Support for pytorch Modules\n",
    "\n",
    "Every continual learning experiment needs a model to train incrementally. You can use any `torch.nn.Module`, even pretrained models.  The `models` sub-module provides for you the most commonly used architectures in the CL literature.\n",
    "\n",
    "You can use any model provided in the [Pytorch](https://pytorch.org/) official ecosystem models as well as the ones provided by [pytorchcv](https://pypi.org/project/pytorchcv/)!"
   ]
  },
  {
   "cell_type": "code",
   "execution_count": 1,
   "outputs": [
    {
     "name": "stdout",
     "output_type": "stream",
     "text": [
      "Collecting git+https://github.com/ContinualAI/avalanche.git\n",
      "  Cloning https://github.com/ContinualAI/avalanche.git to c:\\users\\w-32\\appdata\\local\\temp\\pip-req-build-moztcfbq\n",
      "Requirement already satisfied: typing-extensions in c:\\users\\w-32\\anaconda3\\envs\\avalanche-env\\lib\\site-packages (from avalanche==0.0.1) (3.7.4.3)\n",
      "Requirement already satisfied: psutil in c:\\users\\w-32\\anaconda3\\envs\\avalanche-env\\lib\\site-packages (from avalanche==0.0.1) (5.8.0)\n",
      "Requirement already satisfied: gputil in c:\\users\\w-32\\anaconda3\\envs\\avalanche-env\\lib\\site-packages (from avalanche==0.0.1) (1.4.0)\n",
      "Requirement already satisfied: tensorboard in c:\\users\\w-32\\anaconda3\\envs\\avalanche-env\\lib\\site-packages (from avalanche==0.0.1) (2.4.1)\n",
      "Requirement already satisfied: scikit-learn in c:\\users\\w-32\\anaconda3\\envs\\avalanche-env\\lib\\site-packages (from avalanche==0.0.1) (0.24.1)\n",
      "Requirement already satisfied: matplotlib in c:\\users\\w-32\\anaconda3\\envs\\avalanche-env\\lib\\site-packages (from avalanche==0.0.1) (3.3.3)\n",
      "Requirement already satisfied: numpy in c:\\users\\w-32\\anaconda3\\envs\\avalanche-env\\lib\\site-packages (from avalanche==0.0.1) (1.19.5)\n",
      "Requirement already satisfied: pytorchcv in c:\\users\\w-32\\anaconda3\\envs\\avalanche-env\\lib\\site-packages (from avalanche==0.0.1) (0.0.61)\n",
      "Requirement already satisfied: quadprog in c:\\users\\w-32\\anaconda3\\envs\\avalanche-env\\lib\\site-packages (from avalanche==0.0.1) (0.1.8)\n",
      "Requirement already satisfied: cycler>=0.10 in c:\\users\\w-32\\anaconda3\\envs\\avalanche-env\\lib\\site-packages (from matplotlib->avalanche==0.0.1) (0.10.0)\n",
      "Requirement already satisfied: pillow>=6.2.0 in c:\\users\\w-32\\anaconda3\\envs\\avalanche-env\\lib\\site-packages (from matplotlib->avalanche==0.0.1) (8.1.2)\n",
      "Requirement already satisfied: pyparsing!=2.0.4,!=2.1.2,!=2.1.6,>=2.0.3 in c:\\users\\w-32\\anaconda3\\envs\\avalanche-env\\lib\\site-packages (from matplotlib->avalanche==0.0.1) (2.4.7)\n",
      "Requirement already satisfied: python-dateutil>=2.1 in c:\\users\\w-32\\anaconda3\\envs\\avalanche-env\\lib\\site-packages (from matplotlib->avalanche==0.0.1) (2.8.1)\n",
      "Requirement already satisfied: kiwisolver>=1.0.1 in c:\\users\\w-32\\anaconda3\\envs\\avalanche-env\\lib\\site-packages (from matplotlib->avalanche==0.0.1) (1.3.1)\n",
      "Requirement already satisfied: six in c:\\users\\w-32\\anaconda3\\envs\\avalanche-env\\lib\\site-packages (from cycler>=0.10->matplotlib->avalanche==0.0.1) (1.15.0)\n",
      "Requirement already satisfied: requests in c:\\users\\w-32\\anaconda3\\envs\\avalanche-env\\lib\\site-packages (from pytorchcv->avalanche==0.0.1) (2.25.1)\n",
      "Requirement already satisfied: Cython in c:\\users\\w-32\\anaconda3\\envs\\avalanche-env\\lib\\site-packages (from quadprog->avalanche==0.0.1) (0.29.22)\n",
      "Requirement already satisfied: urllib3<1.27,>=1.21.1 in c:\\users\\w-32\\anaconda3\\envs\\avalanche-env\\lib\\site-packages (from requests->pytorchcv->avalanche==0.0.1) (1.26.3)\n",
      "Requirement already satisfied: idna<3,>=2.5 in c:\\users\\w-32\\anaconda3\\envs\\avalanche-env\\lib\\site-packages (from requests->pytorchcv->avalanche==0.0.1) (2.10)\n",
      "Requirement already satisfied: chardet<5,>=3.0.2 in c:\\users\\w-32\\anaconda3\\envs\\avalanche-env\\lib\\site-packages (from requests->pytorchcv->avalanche==0.0.1) (3.0.4)\n",
      "Requirement already satisfied: certifi>=2017.4.17 in c:\\users\\w-32\\anaconda3\\envs\\avalanche-env\\lib\\site-packages (from requests->pytorchcv->avalanche==0.0.1) (2020.12.5)\n",
      "Requirement already satisfied: threadpoolctl>=2.0.0 in c:\\users\\w-32\\anaconda3\\envs\\avalanche-env\\lib\\site-packages (from scikit-learn->avalanche==0.0.1) (2.1.0)\n",
      "Requirement already satisfied: scipy>=0.19.1 in c:\\users\\w-32\\anaconda3\\envs\\avalanche-env\\lib\\site-packages (from scikit-learn->avalanche==0.0.1) (1.6.1)\n",
      "Requirement already satisfied: joblib>=0.11 in c:\\users\\w-32\\anaconda3\\envs\\avalanche-env\\lib\\site-packages (from scikit-learn->avalanche==0.0.1) (1.0.1)\n",
      "Requirement already satisfied: google-auth<2,>=1.6.3 in c:\\users\\w-32\\anaconda3\\envs\\avalanche-env\\lib\\site-packages (from tensorboard->avalanche==0.0.1) (1.27.1)\n",
      "Requirement already satisfied: setuptools>=41.0.0 in c:\\users\\w-32\\anaconda3\\envs\\avalanche-env\\lib\\site-packages (from tensorboard->avalanche==0.0.1) (52.0.0.post20210125)\n",
      "Requirement already satisfied: tensorboard-plugin-wit>=1.6.0 in c:\\users\\w-32\\anaconda3\\envs\\avalanche-env\\lib\\site-packages (from tensorboard->avalanche==0.0.1) (1.6.0)\n",
      "Requirement already satisfied: protobuf>=3.6.0 in c:\\users\\w-32\\anaconda3\\envs\\avalanche-env\\lib\\site-packages (from tensorboard->avalanche==0.0.1) (3.14.0)\n",
      "Requirement already satisfied: absl-py>=0.4 in c:\\users\\w-32\\anaconda3\\envs\\avalanche-env\\lib\\site-packages (from tensorboard->avalanche==0.0.1) (0.12.0)\n",
      "Requirement already satisfied: werkzeug>=0.11.15 in c:\\users\\w-32\\anaconda3\\envs\\avalanche-env\\lib\\site-packages (from tensorboard->avalanche==0.0.1) (1.0.1)\n",
      "Requirement already satisfied: wheel>=0.26 in c:\\users\\w-32\\anaconda3\\envs\\avalanche-env\\lib\\site-packages (from tensorboard->avalanche==0.0.1) (0.36.2)\n",
      "Requirement already satisfied: grpcio>=1.24.3 in c:\\users\\w-32\\anaconda3\\envs\\avalanche-env\\lib\\site-packages (from tensorboard->avalanche==0.0.1) (1.36.1)\n",
      "Requirement already satisfied: google-auth-oauthlib<0.5,>=0.4.1 in c:\\users\\w-32\\anaconda3\\envs\\avalanche-env\\lib\\site-packages (from tensorboard->avalanche==0.0.1) (0.4.1)\n",
      "Requirement already satisfied: markdown>=2.6.8 in c:\\users\\w-32\\anaconda3\\envs\\avalanche-env\\lib\\site-packages (from tensorboard->avalanche==0.0.1) (3.3.4)\n",
      "Requirement already satisfied: cachetools<5.0,>=2.0.0 in c:\\users\\w-32\\anaconda3\\envs\\avalanche-env\\lib\\site-packages (from google-auth<2,>=1.6.3->tensorboard->avalanche==0.0.1) (4.2.1)\n",
      "Requirement already satisfied: pyasn1-modules>=0.2.1 in c:\\users\\w-32\\anaconda3\\envs\\avalanche-env\\lib\\site-packages (from google-auth<2,>=1.6.3->tensorboard->avalanche==0.0.1) (0.2.8)\n",
      "Requirement already satisfied: rsa<5,>=3.1.4 in c:\\users\\w-32\\anaconda3\\envs\\avalanche-env\\lib\\site-packages (from google-auth<2,>=1.6.3->tensorboard->avalanche==0.0.1) (4.7.2)\n",
      "Requirement already satisfied: requests-oauthlib>=0.7.0 in c:\\users\\w-32\\anaconda3\\envs\\avalanche-env\\lib\\site-packages (from google-auth-oauthlib<0.5,>=0.4.1->tensorboard->avalanche==0.0.1) (1.3.0)\n",
      "Requirement already satisfied: pyasn1<0.5.0,>=0.4.6 in c:\\users\\w-32\\anaconda3\\envs\\avalanche-env\\lib\\site-packages (from pyasn1-modules>=0.2.1->google-auth<2,>=1.6.3->tensorboard->avalanche==0.0.1) (0.4.8)\n",
      "Requirement already satisfied: oauthlib>=3.0.0 in c:\\users\\w-32\\anaconda3\\envs\\avalanche-env\\lib\\site-packages (from requests-oauthlib>=0.7.0->google-auth-oauthlib<0.5,>=0.4.1->tensorboard->avalanche==0.0.1) (3.1.0)\n",
      "Building wheels for collected packages: avalanche\n",
      "  Building wheel for avalanche (setup.py): started\n",
      "  Building wheel for avalanche (setup.py): finished with status 'done'\n",
      "  Created wheel for avalanche: filename=avalanche-0.0.1-py3-none-any.whl size=253178 sha256=dbbd27511906e1178e756c66aa1d8e30bd42b8fbb2733591092d080ee2e3396e\n",
      "  Stored in directory: C:\\Users\\w-32\\AppData\\Local\\Temp\\pip-ephem-wheel-cache-8u60yid7\\wheels\\7c\\60\\00\\f27d86c929665acd1914cf44d9698f802eef0fa365ba3b2ddf\n",
      "Successfully built avalanche\n",
      "Installing collected packages: avalanche\n",
      "Successfully installed avalanche-0.0.1\n"
     ]
    },
    {
     "name": "stderr",
     "output_type": "stream",
     "text": [
      "  Running command git clone -q https://github.com/ContinualAI/avalanche.git 'C:\\Users\\w-32\\AppData\\Local\\Temp\\pip-req-build-moztcfbq'\n"
     ]
    }
   ],
   "source": [
    "!pip install git+https://github.com/ContinualAI/avalanche.git"
   ],
   "metadata": {
    "collapsed": false,
    "pycharm": {
     "name": "#%%\n"
    }
   }
  },
  {
   "cell_type": "code",
   "execution_count": 2,
   "metadata": {
    "pycharm": {
     "name": "#%%\n"
    }
   },
   "outputs": [
    {
     "name": "stdout",
     "output_type": "stream",
     "text": [
      "SimpleCNN(\n",
      "  (features): Sequential(\n",
      "    (0): Conv2d(3, 32, kernel_size=(3, 3), stride=(1, 1), padding=(1, 1))\n",
      "    (1): ReLU(inplace=True)\n",
      "    (2): Conv2d(32, 32, kernel_size=(3, 3), stride=(1, 1))\n",
      "    (3): ReLU(inplace=True)\n",
      "    (4): MaxPool2d(kernel_size=2, stride=2, padding=0, dilation=1, ceil_mode=False)\n",
      "    (5): Dropout(p=0.25, inplace=False)\n",
      "    (6): Conv2d(32, 64, kernel_size=(3, 3), stride=(1, 1), padding=(1, 1))\n",
      "    (7): ReLU(inplace=True)\n",
      "    (8): Conv2d(64, 64, kernel_size=(3, 3), stride=(1, 1))\n",
      "    (9): ReLU(inplace=True)\n",
      "    (10): MaxPool2d(kernel_size=2, stride=2, padding=0, dilation=1, ceil_mode=False)\n",
      "    (11): Dropout(p=0.25, inplace=False)\n",
      "    (12): Conv2d(64, 64, kernel_size=(1, 1), stride=(1, 1))\n",
      "    (13): ReLU(inplace=True)\n",
      "    (14): AdaptiveMaxPool2d(output_size=1)\n",
      "    (15): Dropout(p=0.25, inplace=False)\n",
      "  )\n",
      "  (classifier): Sequential(\n",
      "    (0): Linear(in_features=64, out_features=10, bias=True)\n",
      "  )\n",
      ")\n"
     ]
    }
   ],
   "source": [
    "from avalanche.models import SimpleCNN\n",
    "from avalanche.models import SimpleMLP\n",
    "from avalanche.models import SimpleMLP_TinyImageNet\n",
    "from avalanche.models import MobilenetV1\n",
    "\n",
    "model = SimpleCNN()\n",
    "print(model)"
   ]
  },
  {
   "cell_type": "markdown",
   "metadata": {},
   "source": [
    "## Dynamic Model Expansion\n",
    "A continual learning model may change over time. As an example, a classifier may add new units for previously unseen classes, while progressive networks add a new set units after each experience. Avalanche provides `DynamicModule`s to support these use cases. `DynamicModule`s are `torch.nn.Module`s that provide an addition method, `adaptation`, that is used to update the model's architecture. The method takes a single argument, the data from the current experience.\n",
    "\n",
    "For example, an IncrementalClassifier updates the number of output units:"
   ]
  },
  {
   "cell_type": "code",
   "execution_count": 13,
   "outputs": [
    {
     "name": "stdout",
     "output_type": "stream",
     "text": [
      "IncrementalClassifier(\n",
      "  (classifier): Linear(in_features=784, out_features=2, bias=True)\n",
      ")\n",
      "IncrementalClassifier(\n",
      "  (classifier): Linear(in_features=784, out_features=2, bias=True)\n",
      ")\n",
      "IncrementalClassifier(\n",
      "  (classifier): Linear(in_features=784, out_features=4, bias=True)\n",
      ")\n",
      "IncrementalClassifier(\n",
      "  (classifier): Linear(in_features=784, out_features=6, bias=True)\n",
      ")\n",
      "IncrementalClassifier(\n",
      "  (classifier): Linear(in_features=784, out_features=8, bias=True)\n",
      ")\n",
      "IncrementalClassifier(\n",
      "  (classifier): Linear(in_features=784, out_features=10, bias=True)\n",
      ")\n"
     ]
    }
   ],
   "source": [
    "from avalanche.benchmarks import SplitMNIST\n",
    "from avalanche.models import IncrementalClassifier\n",
    "\n",
    "benchmark = SplitMNIST(5, shuffle=False)\n",
    "model = IncrementalClassifier(in_features=784)\n",
    "\n",
    "print(model)\n",
    "for exp in benchmark.train_stream:\n",
    "    model.adaptation(exp.dataset)\n",
    "    print(model)"
   ],
   "metadata": {
    "collapsed": false,
    "pycharm": {
     "name": "#%%\n"
    }
   }
  },
  {
   "cell_type": "markdown",
   "source": [
    "As you can see, after each call to the `adaptation` method, the model adds 2 new units to account for the new classes. Notice that no learning occurs at this point since the method only modifies the model's architecture.\n",
    "\n",
    "Keep in mind that when you use Avalanche strategies you don't have to call the adaptation yourself. Avalanche strategies automatically call the model's adaptation and update the optimizer to include the new parameters."
   ],
   "metadata": {
    "collapsed": false,
    "pycharm": {
     "name": "#%% md\n"
    }
   }
  },
  {
   "cell_type": "markdown",
   "source": [
    "## Multi-Task models\n",
    "\n",
    "Some models, such as multi-head classifiers, are designed to exploit task labels. In Avalanche, such models are implemented as `MultiTaskModule`s. These are dynamic models (since they need to be updated whenever they encounter a new task) that have an additional `task_labels` argument in their `forward` method. `task_labels` is a tensor with a task id for each sample."
   ],
   "metadata": {
    "collapsed": false,
    "pycharm": {
     "name": "#%% md\n"
    }
   }
  },
  {
   "cell_type": "code",
   "execution_count": 17,
   "outputs": [
    {
     "name": "stdout",
     "output_type": "stream",
     "text": [
      "MultiHeadClassifier(\n",
      "  (classifiers): ModuleDict(\n",
      "    (0): IncrementalClassifier(\n",
      "      (classifier): Linear(in_features=784, out_features=2, bias=True)\n",
      "    )\n",
      "  )\n",
      ")\n",
      "MultiHeadClassifier(\n",
      "  (classifiers): ModuleDict(\n",
      "    (0): IncrementalClassifier(\n",
      "      (classifier): Linear(in_features=784, out_features=2, bias=True)\n",
      "    )\n",
      "  )\n",
      ")\n",
      "MultiHeadClassifier(\n",
      "  (classifiers): ModuleDict(\n",
      "    (0): IncrementalClassifier(\n",
      "      (classifier): Linear(in_features=784, out_features=2, bias=True)\n",
      "    )\n",
      "    (1): IncrementalClassifier(\n",
      "      (classifier): Linear(in_features=784, out_features=2, bias=True)\n",
      "    )\n",
      "  )\n",
      ")\n",
      "MultiHeadClassifier(\n",
      "  (classifiers): ModuleDict(\n",
      "    (0): IncrementalClassifier(\n",
      "      (classifier): Linear(in_features=784, out_features=2, bias=True)\n",
      "    )\n",
      "    (1): IncrementalClassifier(\n",
      "      (classifier): Linear(in_features=784, out_features=2, bias=True)\n",
      "    )\n",
      "    (2): IncrementalClassifier(\n",
      "      (classifier): Linear(in_features=784, out_features=2, bias=True)\n",
      "    )\n",
      "  )\n",
      ")\n",
      "MultiHeadClassifier(\n",
      "  (classifiers): ModuleDict(\n",
      "    (0): IncrementalClassifier(\n",
      "      (classifier): Linear(in_features=784, out_features=2, bias=True)\n",
      "    )\n",
      "    (1): IncrementalClassifier(\n",
      "      (classifier): Linear(in_features=784, out_features=2, bias=True)\n",
      "    )\n",
      "    (2): IncrementalClassifier(\n",
      "      (classifier): Linear(in_features=784, out_features=2, bias=True)\n",
      "    )\n",
      "    (3): IncrementalClassifier(\n",
      "      (classifier): Linear(in_features=784, out_features=2, bias=True)\n",
      "    )\n",
      "  )\n",
      ")\n",
      "MultiHeadClassifier(\n",
      "  (classifiers): ModuleDict(\n",
      "    (0): IncrementalClassifier(\n",
      "      (classifier): Linear(in_features=784, out_features=2, bias=True)\n",
      "    )\n",
      "    (1): IncrementalClassifier(\n",
      "      (classifier): Linear(in_features=784, out_features=2, bias=True)\n",
      "    )\n",
      "    (2): IncrementalClassifier(\n",
      "      (classifier): Linear(in_features=784, out_features=2, bias=True)\n",
      "    )\n",
      "    (3): IncrementalClassifier(\n",
      "      (classifier): Linear(in_features=784, out_features=2, bias=True)\n",
      "    )\n",
      "    (4): IncrementalClassifier(\n",
      "      (classifier): Linear(in_features=784, out_features=2, bias=True)\n",
      "    )\n",
      "  )\n",
      ")\n"
     ]
    }
   ],
   "source": [
    "from avalanche.benchmarks import SplitMNIST\n",
    "from avalanche.models import MultiHeadClassifier\n",
    "\n",
    "benchmark = SplitMNIST(5, shuffle=False, return_task_id=True)\n",
    "model = MultiHeadClassifier(in_features=784)\n",
    "\n",
    "print(model)\n",
    "for exp in benchmark.train_stream:\n",
    "    model.adaptation(exp.dataset)\n",
    "    print(model)"
   ],
   "metadata": {
    "collapsed": false,
    "pycharm": {
     "name": "#%%\n"
    }
   }
  },
  {
   "cell_type": "markdown",
   "source": [
    "When you use a `MultiHeadClassifier`, a new head is initialized whenever a new task is encountered. Avalanche strategies automatically recognizes multi-task modules and provide the task labels to them."
   ],
   "metadata": {
    "collapsed": false,
    "pycharm": {
     "name": "#%% md\n"
    }
   }
  },
  {
   "cell_type": "markdown",
   "source": [
    "### How to define a multi-task Module\n",
    "If you want to define a custom multi-task module you need to override two methods: `adaptation` (if needed), and `forward_single_task`. The `forward` method of the base class will split the mini-batch by task-id and provide single task mini-batches to `forward_single_task`."
   ],
   "metadata": {
    "collapsed": false,
    "pycharm": {
     "name": "#%% md\n"
    }
   }
  },
  {
   "cell_type": "code",
   "execution_count": null,
   "outputs": [],
   "source": [
    "from avalanche.models import MultiTaskModule\n",
    "\n",
    "class CustomMTModule(MultiTaskModule):\n",
    "    def __init__(self, in_features, initial_out_features=2):\n",
    "        super().__init__()\n",
    "\n",
    "    def adaptation(self, dataset):\n",
    "        super().adaptation(dataset)\n",
    "        # your adaptation goes here\n",
    "\n",
    "    def forward_single_task(self, x, task_label):\n",
    "        # your forward goes here.\n",
    "        # task_label is a single integer\n",
    "        # the mini-batch is split by task-id inside the forward method.\n",
    "        pass"
   ],
   "metadata": {
    "collapsed": false,
    "pycharm": {
     "name": "#%%\n"
    }
   }
  },
  {
   "cell_type": "markdown",
   "source": [
    "Alternatively, if you only want to convert a single-head model into a multi-head model, you can use the `as_multitask` wrapper, which converts the model for you."
   ],
   "metadata": {
    "collapsed": false,
    "pycharm": {
     "name": "#%% md\n"
    }
   }
  },
  {
   "cell_type": "code",
   "execution_count": 18,
   "outputs": [
    {
     "name": "stdout",
     "output_type": "stream",
     "text": [
      "SimpleCNN(\n",
      "  (features): Sequential(\n",
      "    (0): Conv2d(3, 32, kernel_size=(3, 3), stride=(1, 1), padding=(1, 1))\n",
      "    (1): ReLU(inplace=True)\n",
      "    (2): Conv2d(32, 32, kernel_size=(3, 3), stride=(1, 1))\n",
      "    (3): ReLU(inplace=True)\n",
      "    (4): MaxPool2d(kernel_size=2, stride=2, padding=0, dilation=1, ceil_mode=False)\n",
      "    (5): Dropout(p=0.25, inplace=False)\n",
      "    (6): Conv2d(32, 64, kernel_size=(3, 3), stride=(1, 1), padding=(1, 1))\n",
      "    (7): ReLU(inplace=True)\n",
      "    (8): Conv2d(64, 64, kernel_size=(3, 3), stride=(1, 1))\n",
      "    (9): ReLU(inplace=True)\n",
      "    (10): MaxPool2d(kernel_size=2, stride=2, padding=0, dilation=1, ceil_mode=False)\n",
      "    (11): Dropout(p=0.25, inplace=False)\n",
      "    (12): Conv2d(64, 64, kernel_size=(1, 1), stride=(1, 1))\n",
      "    (13): ReLU(inplace=True)\n",
      "    (14): AdaptiveMaxPool2d(output_size=1)\n",
      "    (15): Dropout(p=0.25, inplace=False)\n",
      "  )\n",
      "  (classifier): Sequential(\n",
      "    (0): Linear(in_features=64, out_features=10, bias=True)\n",
      "  )\n",
      ")\n",
      "MultiTaskDecorator(\n",
      "  (model): SimpleCNN(\n",
      "    (features): Sequential(\n",
      "      (0): Conv2d(3, 32, kernel_size=(3, 3), stride=(1, 1), padding=(1, 1))\n",
      "      (1): ReLU(inplace=True)\n",
      "      (2): Conv2d(32, 32, kernel_size=(3, 3), stride=(1, 1))\n",
      "      (3): ReLU(inplace=True)\n",
      "      (4): MaxPool2d(kernel_size=2, stride=2, padding=0, dilation=1, ceil_mode=False)\n",
      "      (5): Dropout(p=0.25, inplace=False)\n",
      "      (6): Conv2d(32, 64, kernel_size=(3, 3), stride=(1, 1), padding=(1, 1))\n",
      "      (7): ReLU(inplace=True)\n",
      "      (8): Conv2d(64, 64, kernel_size=(3, 3), stride=(1, 1))\n",
      "      (9): ReLU(inplace=True)\n",
      "      (10): MaxPool2d(kernel_size=2, stride=2, padding=0, dilation=1, ceil_mode=False)\n",
      "      (11): Dropout(p=0.25, inplace=False)\n",
      "      (12): Conv2d(64, 64, kernel_size=(1, 1), stride=(1, 1))\n",
      "      (13): ReLU(inplace=True)\n",
      "      (14): AdaptiveMaxPool2d(output_size=1)\n",
      "      (15): Dropout(p=0.25, inplace=False)\n",
      "    )\n",
      "    (classifier): Sequential()\n",
      "  )\n",
      "  (classifier): MultiHeadClassifier(\n",
      "    (classifiers): ModuleDict(\n",
      "      (0): IncrementalClassifier(\n",
      "        (classifier): Linear(in_features=64, out_features=10, bias=True)\n",
      "      )\n",
      "    )\n",
      "  )\n",
      ")\n"
     ]
    }
   ],
   "source": [
    "from avalanche.models import as_multitask\n",
    "\n",
    "model = SimpleCNN()\n",
    "print(model)\n",
    "\n",
    "mt_model = as_multitask(model, 'classifier')\n",
    "print(mt_model)"
   ],
   "metadata": {
    "collapsed": false,
    "pycharm": {
     "name": "#%%\n"
    }
   }
  },
  {
   "cell_type": "markdown",
   "metadata": {
    "pycharm": {
     "name": "#%% md\n"
    }
   },
   "source": [
    "## 🤝 Run it on Google Colab\n",
    "\n",
    "You can run _this chapter_ and play with it on Google Colaboratory: [![Open In Colab](https://colab.research.google.com/assets/colab-badge.svg)](https://colab.research.google.com/github/ContinualAI/avalanche/blob/master/notebooks/from-zero-to-hero-tutorial/02_models.ipynb)"
   ]
  }
 ],
 "metadata": {
  "kernelspec": {
   "display_name": "Python 3",
   "language": "python",
   "name": "python3"
  },
  "language_info": {
   "codemirror_mode": {
    "name": "ipython",
    "version": 3
   },
   "file_extension": ".py",
   "mimetype": "text/x-python",
   "name": "python",
   "nbconvert_exporter": "python",
   "pygments_lexer": "ipython3",
   "version": "3.9.1"
  }
 },
 "nbformat": 4,
 "nbformat_minor": 2
}